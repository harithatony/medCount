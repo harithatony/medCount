{
 "cells": [
  {
   "cell_type": "code",
   "execution_count": 9,
   "id": "9b2a1e98-abc7-47ab-a71a-8dffd60c12ec",
   "metadata": {},
   "outputs": [],
   "source": [
    "#libraries import\n",
    "import cv2\n",
    "from list3 import YOLO_Pred\n",
    "import pyttsx3"
   ]
  },
  {
   "cell_type": "code",
   "execution_count": 10,
   "id": "b376f735-12ca-440f-aa4e-f0b0ed8190d1",
   "metadata": {},
   "outputs": [],
   "source": [
    "yolo = YOLO_Pred('./Model/weight/best.onnx','data_yaml') "
   ]
  },
  {
   "cell_type": "code",
   "execution_count": 11,
   "id": "aac33c1e-96cf-4ad0-9473-e54f192a71e6",
   "metadata": {},
   "outputs": [
    {
     "name": "stdout",
     "output_type": "stream",
     "text": [
      "['Curved Mayo Scissor', 'Curved Mayo Scissor', 'Curved Mayo Scissor', 'Curved Mayo Scissor']\n"
     ]
    }
   ],
   "source": [
    "#image reading and detection before\n",
    "img = cv2.imread('./image6.jpg')\n",
    "#show raw image\n",
    "cv2.imshow('img',img)\n",
    "cv2.waitKey(0)\n",
    "cv2.destroyAllWindows()\n",
    "#predictions\n",
    "result = yolo.predictions(img)\n",
    "if isinstance(result, tuple) and len(result) == 2:\n",
    "    img_pred, before = result\n",
    "else:\n",
    "    img_pred = result\n",
    "    before = []\n",
    "print(before)\n",
    "#show predicter image\n",
    "cv2.imshow('prediction_image',img_pred)\n",
    "cv2.waitKey(0)\n",
    "cv2.destroyAllWindows()"
   ]
  },
  {
   "cell_type": "code",
   "execution_count": 12,
   "id": "11ec9422-27d7-48dc-a5f2-1fa58fff2943",
   "metadata": {},
   "outputs": [
    {
     "name": "stdout",
     "output_type": "stream",
     "text": [
      "{'Curved Mayo Scissor': 4}\n"
     ]
    }
   ],
   "source": [
    "#making dict of before\n",
    "d_before = {}\n",
    "for i in before:\n",
    "    if i not in d_before:\n",
    "        d_before[i] = 1\n",
    "    else:\n",
    "        d_before[i] += 1\n",
    "print(d_before)"
   ]
  },
  {
   "cell_type": "code",
   "execution_count": 13,
   "id": "d4bd38fc-d79e-4701-b1c1-53f382b742b8",
   "metadata": {},
   "outputs": [
    {
     "name": "stdout",
     "output_type": "stream",
     "text": [
      "['Curved Mayo Scissor', 'Curved Mayo Scissor', 'Curved Mayo Scissor', 'Curved Mayo Scissor']\n"
     ]
    }
   ],
   "source": [
    "#image reading and detection  after\n",
    "img = cv2.imread('./image6.jpg')\n",
    "#show raw image\n",
    "cv2.imshow('img',img)\n",
    "cv2.waitKey(0)\n",
    "cv2.destroyAllWindows()\n",
    "#predictions\n",
    "result = yolo.predictions(img)\n",
    "if isinstance(result, tuple) and len(result) == 2:\n",
    "    img_pred, after = result\n",
    "else:\n",
    "    img_pred = result\n",
    "    after = []\n",
    "print(after)\n",
    "#show predicter image\n",
    "cv2.imshow('prediction_image',img_pred)\n",
    "cv2.waitKey(0)\n",
    "cv2.destroyAllWindows()"
   ]
  },
  {
   "cell_type": "code",
   "execution_count": 14,
   "id": "c0d6cc67-6371-47b5-87c9-7e70257637e2",
   "metadata": {},
   "outputs": [
    {
     "name": "stdout",
     "output_type": "stream",
     "text": [
      "{'Curved Mayo Scissor': 4}\n"
     ]
    }
   ],
   "source": [
    "#making dict of after\n",
    "d_after = {}\n",
    "for i in after:\n",
    "    if i not in d_after:\n",
    "        d_after[i] = 1\n",
    "    else:\n",
    "        d_after[i] += 1\n",
    "print(d_after)"
   ]
  },
  {
   "cell_type": "code",
   "execution_count": 15,
   "id": "7471e01c-c768-4bd3-8b15-4db0db066cb4",
   "metadata": {},
   "outputs": [],
   "source": [
    "#warning sound function\n",
    "def speak_warning_message(msg):\n",
    "    # Initialize the Text-to-Speech engine\n",
    "    engine = pyttsx3.init()\n",
    "\n",
    "    # Set properties (optional)\n",
    "    engine.setProperty('rate', 150)  # Speed of speech\n",
    "    engine.setProperty('volume', 0.9)  # Volume level (0.0 to 1.0)\n",
    "\n",
    "    # Warning message\n",
    "    warning_message = msg\n",
    "\n",
    "    # Speak the warning message\n",
    "    engine.say(warning_message)\n",
    "\n",
    "    # Wait for speech to finish\n",
    "    engine.runAndWait()"
   ]
  },
  {
   "cell_type": "code",
   "execution_count": 16,
   "id": "9a9047cc-7abd-488d-939c-f995880fb940",
   "metadata": {},
   "outputs": [],
   "source": [
    "#checking\n",
    "def check():\n",
    "    if len(d_before) != len(d_after):\n",
    "            return False\n",
    "    for i in d_before:\n",
    "        if i not in d_after or d_before[i] != d_after[i]:\n",
    "            return False\n",
    "    else:\n",
    "        return True\n",
    "if check() == True:\n",
    "    msg = \"surgery successful\"\n",
    "else:\n",
    "    msg = \"something is missing\"\n",
    "speak_warning_message(msg)"
   ]
  }
 ],
 "metadata": {
  "kernelspec": {
   "display_name": "Python 3 (ipykernel)",
   "language": "python",
   "name": "python3"
  },
  "language_info": {
   "codemirror_mode": {
    "name": "ipython",
    "version": 3
   },
   "file_extension": ".py",
   "mimetype": "text/x-python",
   "name": "python",
   "nbconvert_exporter": "python",
   "pygments_lexer": "ipython3",
   "version": "3.11.3"
  }
 },
 "nbformat": 4,
 "nbformat_minor": 5
}
